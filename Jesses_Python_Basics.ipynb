{
 "cells": [
  {
   "cell_type": "markdown",
   "id": "de508969-a763-4469-818a-a6092ba61d01",
   "metadata": {},
   "source": [
    "# Jesse's Python Basics"
   ]
  },
  {
   "cell_type": "markdown",
   "id": "b87d4a97-d6be-42ca-b73d-2dd9aa146209",
   "metadata": {},
   "source": [
    "Created 9/19/2021\n",
    "Last Updated 9/19/2021"
   ]
  },
  {
   "cell_type": "markdown",
   "id": "0512de89-994b-4d11-b4ab-07544c797e95",
   "metadata": {},
   "source": [
    "## A Useful Hyperlink for Jupyter Markdown Language:\n",
    "https://github.com/adam-p/markdown-here/wiki/Markdown-Cheatsheet"
   ]
  },
  {
   "cell_type": "markdown",
   "id": "4d943074-b99a-41a2-bf95-79102f2a2a8f",
   "metadata": {},
   "source": [
    "## Table of Contents:\n",
    "* [Python Data Types](#first-bullet)\n",
    "* [Python Data Structures](#second-bullet)\n",
    "\n"
   ]
  },
  {
   "cell_type": "markdown",
   "id": "7a39136f-fff8-4394-8bac-661002022917",
   "metadata": {},
   "source": [
    "## Python Data Types <a class=\"anchor\" id=\"first-bullet\"></a>"
   ]
  },
  {
   "cell_type": "code",
   "execution_count": null,
   "id": "846d8205-521d-42cf-992e-8adc9abd5a09",
   "metadata": {},
   "outputs": [],
   "source": []
  },
  {
   "cell_type": "markdown",
   "id": "bc20eeca-03f1-4aac-be1b-3c7a9650cc68",
   "metadata": {},
   "source": [
    "## Python Data Structures <a class=\"anchor\" id=\"second-bullet\"></a>"
   ]
  },
  {
   "cell_type": "code",
   "execution_count": 15,
   "id": "3b7c8893-417e-48f3-a428-aa062dd92af9",
   "metadata": {},
   "outputs": [
    {
     "name": "stdout",
     "output_type": "stream",
     "text": [
      "10\n",
      "8.3\n",
      "(10, 3, 4, 5, 6, 7, 'hello', 7.2, 8.3, 1, 10, 4, 7, 3)\n",
      "(3, 4, 5, 6, 7)\n",
      "[1, 3, 4, 7, 10]\n",
      "(1, 10, 4, 7, 3, 1, 3, (34, 56))\n",
      "34\n"
     ]
    }
   ],
   "source": [
    "# Tuples\n",
    "## properties: brackets=(), ordered sequence, immutable,indexed\n",
    "\n",
    "\n",
    "my_tuple = (10,3,4,5,6,7,'hello',7.2, 8.3)\n",
    "# print first element\n",
    "print(my_tuple[0]) \n",
    "\n",
    "# print last element\n",
    "print(my_tuple[-1]) \n",
    "\n",
    "# concatenate tuples\n",
    "my_tuple2 = (1,10,4,7,3)\n",
    "print(my_tuple+my_tuple2) \n",
    "\n",
    "# slice tuples - from index you want to the index you want +1\n",
    "first_index = 1\n",
    "last_index = 5\n",
    "print(my_tuple[first_index:last_index+1])\n",
    "\n",
    "# tuples are immutable!\n",
    "# my_tuple[2] = 4 # returns an error!\n",
    "\n",
    "# sorting tuples - the output is a sorted LIST\n",
    "sorted_tuple = sorted(my_tuple2)\n",
    "print(sorted_tuple)\n",
    "\n",
    "# nesting tuples\n",
    "nested_tuple = my_tuple2+(1,3,(34,56))\n",
    "print(nested_tuple)\n",
    "# indexing nested tuples -think of it like a tree, first use index of the main tuple, then the secondary tuple and so on\n",
    "print(nested_tuple[-1][0])\n",
    "\n"
   ]
  },
  {
   "cell_type": "code",
   "execution_count": 24,
   "id": "88e14e09-852c-4a64-ba08-9d0bb79cf734",
   "metadata": {},
   "outputs": [
    {
     "name": "stdout",
     "output_type": "stream",
     "text": [
      "[1, 3, 5, 6, 7.2, 10.3, 'hello', 'new_element1', 'new_element2']\n",
      "[1, 3, 5, 6, 7.2, 10.3, 'hello', 'new_element1', 'new_element2', ['again']]\n",
      "[1, 3, 5, 6, 7.2, 10.3]\n",
      "['hello', ' world', ' again']\n"
     ]
    }
   ],
   "source": [
    "# lists\n",
    "## properties: brackets=[], ordered sequence, mutable,indexed\n",
    "\n",
    "my_list = [1,3,5,6,7.2,10.3,'hello']\n",
    "\n",
    "# index convention for lists and tuples are the same!\n",
    "\n",
    "# lists however, are mutable!:\n",
    "my_list.extend(['new_element1','new_element2']) # adds as many elements as you want to the end of the list\n",
    "print(my_list)\n",
    "\n",
    "my_list.append(['again']) # appends only one element\n",
    "print(my_list)\n",
    "\n",
    "# deleting element\n",
    "del(my_list[-4:])\n",
    "print(my_list)\n",
    "\n",
    "# convert string to list using split\n",
    "str_list = \"hello, world, again\".split(',')\n",
    "print(str_list)"
   ]
  },
  {
   "cell_type": "code",
   "execution_count": null,
   "id": "20d69733-e309-494a-8f0c-24d380c0e40f",
   "metadata": {},
   "outputs": [],
   "source": []
  }
 ],
 "metadata": {
  "kernelspec": {
   "display_name": "Python",
   "language": "python",
   "name": "conda-env-python-py"
  },
  "language_info": {
   "codemirror_mode": {
    "name": "ipython",
    "version": 3
   },
   "file_extension": ".py",
   "mimetype": "text/x-python",
   "name": "python",
   "nbconvert_exporter": "python",
   "pygments_lexer": "ipython3",
   "version": "3.6.13"
  }
 },
 "nbformat": 4,
 "nbformat_minor": 5
}
