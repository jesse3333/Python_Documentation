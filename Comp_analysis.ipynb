{
 "cells": [
  {
   "cell_type": "markdown",
   "id": "644ce021-4d84-4bec-bb30-6592ce8cdcec",
   "metadata": {},
   "source": [
    "# Compressor Analysis Notebook"
   ]
  },
  {
   "cell_type": "code",
   "execution_count": 1,
   "id": "f8c61b58-1bc1-495e-a162-607d1a0bf540",
   "metadata": {},
   "outputs": [
    {
     "name": "stdout",
     "output_type": "stream",
     "text": [
      "Hello :)\n"
     ]
    }
   ],
   "source": [
    "print('Hello :)')"
   ]
  },
  {
   "cell_type": "code",
   "execution_count": null,
   "id": "c440f325-cc3f-4047-a3e7-89ea0804aeaa",
   "metadata": {},
   "outputs": [],
   "source": []
  }
 ],
 "metadata": {
  "kernelspec": {
   "display_name": "Python",
   "language": "python",
   "name": "conda-env-python-py"
  },
  "language_info": {
   "codemirror_mode": {
    "name": "ipython",
    "version": 3
   },
   "file_extension": ".py",
   "mimetype": "text/x-python",
   "name": "python",
   "nbconvert_exporter": "python",
   "pygments_lexer": "ipython3",
   "version": "3.6.13"
  }
 },
 "nbformat": 4,
 "nbformat_minor": 5
}
